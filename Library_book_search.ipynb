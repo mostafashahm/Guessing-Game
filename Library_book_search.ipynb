{
  "nbformat": 4,
  "nbformat_minor": 0,
  "metadata": {
    "colab": {
      "provenance": [],
      "authorship_tag": "ABX9TyN7IfUuSiyk4BbVlC0GlMhQ",
      "include_colab_link": true
    },
    "kernelspec": {
      "name": "python3",
      "display_name": "Python 3"
    },
    "language_info": {
      "name": "python"
    }
  },
  "cells": [
    {
      "cell_type": "markdown",
      "metadata": {
        "id": "view-in-github",
        "colab_type": "text"
      },
      "source": [
        "<a href=\"https://colab.research.google.com/github/mostafashahm/Guessing-Game/blob/main/Library_book_search.ipynb\" target=\"_parent\"><img src=\"https://colab.research.google.com/assets/colab-badge.svg\" alt=\"Open In Colab\"/></a>"
      ]
    },
    {
      "cell_type": "code",
      "execution_count": null,
      "metadata": {
        "id": "QLjFhsr_mMiD"
      },
      "outputs": [],
      "source": [
        "books = {\n",
        "    \"Life of Pi\": \"Adventure Fiction\",\n",
        "    \"The Three Musketeers\": \"Historical Adventure\",\n",
        "    \"Watchmen\": \"Comics\",\n",
        "    \"Bird Box\": \"Horror\",\n",
        "    \"Harry Potter\":\"Fantasy Fiction\",\n",
        "    \"Good Omens\": \"Comedy\"\n",
        "}\n",
        "name = input()\n",
        "book_found = False\n",
        "for book, category in books.items():\n",
        "  if  name in books.keys():\n",
        "    book_found = True\n",
        "    print (\"for the book called: \" , name, \"you can find it in category called\", category)\n",
        "    break\n",
        "  elif name in books.values():\n",
        "    book_found = True\n",
        "    print (\"for the category called: \" , name, \"you can find a book called\",book)\n",
        "    break\n",
        "if not book_found:\n",
        "    print (\"book not found\" )"
      ]
    }
  ]
}